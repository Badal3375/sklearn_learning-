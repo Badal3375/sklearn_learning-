{
  "cells": [
    {
      "cell_type": "markdown",
      "metadata": {
        "id": "view-in-github",
        "colab_type": "text"
      },
      "source": [
        "<a href=\"https://colab.research.google.com/github/Badal3375/sklearn_learning-/blob/main/train_model_py_Model_Training_Script.ipynb\" target=\"_parent\"><img src=\"https://colab.research.google.com/assets/colab-badge.svg\" alt=\"Open In Colab\"/></a>"
      ]
    },
    {
      "cell_type": "code",
      "source": [
        "import pandas as pd\n",
        "from sklearn.model_selection import train_test_split\n",
        "from sklearn.ensemble import RandomForestClassifier\n",
        "from sklearn.metrics import accuracy_score\n",
        "import joblib\n",
        "import numpy as np\n",
        "\n",
        "print(\"Model training script started.\")\n",
        "\n",
        "# 1. Load the dataset\n",
        "try:\n",
        "    df = pd.read_csv('/content/train_u6lujuX_CVtuZ9i.csv')\n",
        "    print(\"Dataset loaded successfully.\")\n",
        "except FileNotFoundError:\n",
        "    print(\"Error: train.csv not found. Please download the dataset and place it in the correct directory.\")\n",
        "    exit()\n",
        "\n",
        "# 2. Basic Data Preprocessing\n",
        "print(\"Starting data preprocessing...\")\n",
        "\n",
        "# Convert categorical columns to numeric using one-hot encoding\n",
        "df = pd.get_dummies(df, columns=['Gender', 'Married', 'Dependents', 'Education', 'Self_Employed', 'Property_Area'], drop_first=True)\n",
        "\n",
        "# Fill missing values\n",
        "# For simplicity, we'll use the median for numerical columns and the mode for categorical ones before encoding.\n",
        "# Note: A more robust solution would involve more sophisticated imputation.\n",
        "for col in ['LoanAmount', 'Loan_Amount_Term', 'Credit_History']:\n",
        "    if df[col].isnull().sum() > 0:\n",
        "        df[col].fillna(df[col].median(), inplace=True)\n",
        "\n",
        "# Drop rows with any remaining nulls (if any) and the Loan_ID column\n",
        "df.dropna(inplace=True)\n",
        "df.drop('Loan_ID', axis=1, inplace=True)\n",
        "\n",
        "# Map target variable 'Loan_Status' to 0 and 1\n",
        "df['Loan_Status'] = df['Loan_Status'].map({'Y': 1, 'N': 0})\n",
        "\n",
        "print(\"Preprocessing complete.\")\n",
        "\n",
        "# 3. Define Features (X) and Target (y)\n",
        "X = df.drop('Loan_Status', axis=1)\n",
        "y = df['Loan_Status']\n",
        "\n",
        "# Store the column names\n",
        "model_columns = list(X.columns)\n",
        "joblib.dump(model_columns, 'model_columns.pkl')\n",
        "print(f\"Model columns saved to model_columns.pkl. Columns are: {model_columns}\")\n",
        "\n",
        "\n",
        "# 4. Split the data\n",
        "X_train, X_test, y_train, y_test = train_test_split(X, y, test_size=0.2, random_state=42)\n",
        "\n",
        "# 5. Train the Random Forest model\n",
        "print(\"Training the Random Forest model...\")\n",
        "model = RandomForestClassifier(n_estimators=100, random_state=42)\n",
        "model.fit(X_train, y_train)\n",
        "print(\"Model training complete.\")\n",
        "\n",
        "# 6. Evaluate the model\n",
        "y_pred = model.predict(X_test)\n",
        "accuracy = accuracy_score(y_test, y_pred)\n",
        "print(f\"Model Accuracy: {accuracy * 100:.2f}%\")\n",
        "\n",
        "# 7. Save the trained model\n",
        "joblib.dump(model, 'loan_approval_model.pkl')\n",
        "print(\"Model saved successfully as loan_approval_model.pkl.\")"
      ],
      "outputs": [
        {
          "output_type": "stream",
          "name": "stdout",
          "text": [
            "Model training script started.\n",
            "Dataset loaded successfully.\n",
            "Starting data preprocessing...\n",
            "Preprocessing complete.\n",
            "Model columns saved to model_columns.pkl. Columns are: ['ApplicantIncome', 'CoapplicantIncome', 'LoanAmount', 'Loan_Amount_Term', 'Credit_History', 'Gender_Male', 'Married_Yes', 'Dependents_1', 'Dependents_2', 'Dependents_3+', 'Education_Not Graduate', 'Self_Employed_Yes', 'Property_Area_Semiurban', 'Property_Area_Urban']\n",
            "Training the Random Forest model...\n"
          ]
        },
        {
          "output_type": "stream",
          "name": "stderr",
          "text": [
            "/tmp/ipython-input-1-1793426524.py:29: FutureWarning: A value is trying to be set on a copy of a DataFrame or Series through chained assignment using an inplace method.\n",
            "The behavior will change in pandas 3.0. This inplace method will never work because the intermediate object on which we are setting values always behaves as a copy.\n",
            "\n",
            "For example, when doing 'df[col].method(value, inplace=True)', try using 'df.method({col: value}, inplace=True)' or df[col] = df[col].method(value) instead, to perform the operation inplace on the original object.\n",
            "\n",
            "\n",
            "  df[col].fillna(df[col].median(), inplace=True)\n"
          ]
        },
        {
          "output_type": "stream",
          "name": "stdout",
          "text": [
            "Model training complete.\n",
            "Model Accuracy: 78.86%\n",
            "Model saved successfully as loan_approval_model.pkl.\n"
          ]
        }
      ],
      "execution_count": null,
      "metadata": {
        "colab": {
          "base_uri": "https://localhost:8080/"
        },
        "id": "ltiCIixhqa9P",
        "outputId": "ef4f5c3a-067a-421b-8270-47363bc598e5"
      }
    }
  ],
  "metadata": {
    "colab": {
      "provenance": [],
      "include_colab_link": true
    },
    "kernelspec": {
      "display_name": "Python 3",
      "name": "python3"
    }
  },
  "nbformat": 4,
  "nbformat_minor": 0
}